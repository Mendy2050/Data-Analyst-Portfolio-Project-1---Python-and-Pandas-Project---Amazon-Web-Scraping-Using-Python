{
 "cells": [
  {
   "cell_type": "code",
   "execution_count": 2,
   "id": "f236cbb9",
   "metadata": {},
   "outputs": [],
   "source": [
    "# 1. import libraries \n",
    "\n",
    "from bs4 import BeautifulSoup\n",
    "import requests\n",
    "import time\n",
    "import datetime\n",
    "\n",
    "import smtplib     #send emails to yourself\n"
   ]
  },
  {
   "cell_type": "code",
   "execution_count": null,
   "id": "1c2e0f1f-4c82-4340-b930-aae90d3e98b6",
   "metadata": {},
   "outputs": [],
   "source": []
  },
  {
   "cell_type": "code",
   "execution_count": 40,
   "id": "9b531b61",
   "metadata": {},
   "outputs": [
    {
     "name": "stdout",
     "output_type": "stream",
     "text": [
      "\n",
      "                    Sarcastic Comment Loading Please Wait Funny Sarcasm Humor for Men Women T-Shirt\n",
      "                   \n",
      "\n",
      "                      19\n",
      "                      \n",
      "                       .\n",
      "                      \n",
      "\n"
     ]
    }
   ],
   "source": [
    "# 2. Connect to Website and pull in data\n",
    "\n",
    "# URL = 'https://www.amazon.com/Funny-Data-Systems-Business-Analyst/dp/B07FNW9FGJ/ref=sr_1_3?dchild=1&keywords=data%2Banalyst%2Btshirt&qid=1626655184&sr=8-3&customId=B0752XJYNL&th=1'\n",
    "\n",
    "URL = 'https://www.amazon.com/Sarcastic-Comment-Loading-Sarcasm-T-Shirt/dp/B074P8S57Y/ref=sxin_14_pa_sp_search_thematic_sspa?content-id=amzn1.sym.cd4900ae-382e-4968-8cca-26c773a2a0f3%3Aamzn1.sym.cd4900ae-382e-4968-8cca-26c773a2a0f3&crid=DX71JQ1NCN6I&cv_ct_cx=data%2Banalyst%2Btshirt&dib=eyJ2IjoiMSJ9.XWwc0TCx8FCMV445Nl_-h4Y6XKxxCaDsgB-3TAA5lByd1O_0awOPpKgFmuPZ5mV9.PH39Yy9FdE3J-om9N3HQ4T2SUxUBK-M-sWv2cS7sVDo&dib_tag=se&keywords=data%2Banalyst%2Btshirt&pd_rd_i=B074P8S57Y&pd_rd_r=7de926fe-5f4e-4962-bf06-f6cd40e1cc78&pd_rd_w=TwgqN&pd_rd_wg=naWIL&pf_rd_p=cd4900ae-382e-4968-8cca-26c773a2a0f3&pf_rd_r=BGWKXJZ5CKE2MPPQ42H2&qid=1709227647&sbo=RZvfv%2F%2FHxDF%2BO5021pAnSA%3D%3D&sprefix=data%2Banalyst%2Btshirt%2Caps%2C240&sr=1-2-3f7eb011-4703-48ad-8058-43dbff1e6b87-spons&sp_csd=d2lkZ2V0TmFtZT1zcF9zZWFyY2hfdGhlbWF0aWM&psc=1'\n",
    "\n",
    "\n",
    "\n",
    "headers = {\"User-Agent\": \"Mozilla/5.0 (Windows NT 10.0; Win64; x64) AppleWebKit/537.36 (KHTML, like Gecko) Chrome/78.0.3904.108 Safari/537.36\", \"Accept-Encoding\":\"gzip, deflate\", \"Accept\":\"text/html,application/xhtml+xml,application/xml;q=0.9,*/*;q=0.8\", \"DNT\":\"1\",\"Connection\":\"close\", \"Upgrade-Insecure-Requests\":\"1\"}\n",
    "\n",
    "page = requests.get(URL, headers=headers)\n",
    "\n",
    "soup1 = BeautifulSoup(page.content, \"html.parser\")\n",
    "\n",
    "soup2 = BeautifulSoup(soup1.prettify(), \"html.parser\")\n",
    "\n",
    "\n",
    "title = soup2.find(id='productTitle').get_text()\n",
    "price = soup2.find('span',{'class':'a-price-whole'}).get_text()\n",
    "\n",
    "# price = soup2.find(id='priceblock_ourprice').get_text()\n",
    "# price = soup2.find('span',{'class':'a-offscreen'}).get_text()\n",
    "# price = soup2.find(\"span\",{\"class\":\"a-price\"}).find(\"span\").text\n",
    "\n",
    "print(title)\n",
    "print(price)\n",
    "\n",
    "\n"
   ]
  },
  {
   "cell_type": "code",
   "execution_count": null,
   "id": "a8f6fedc-46af-416d-bec6-fd1fcb42723d",
   "metadata": {},
   "outputs": [],
   "source": []
  },
  {
   "cell_type": "code",
   "execution_count": 41,
   "id": "b6f7d66e",
   "metadata": {},
   "outputs": [
    {
     "name": "stdout",
     "output_type": "stream",
     "text": [
      "Sarcastic Comment Loading Please Wait Funny Sarcasm Humor for Men Women T-Shirt\n",
      "19\n"
     ]
    }
   ],
   "source": [
    "# 3. Clean up the data a little bit\n",
    "\n",
    "price = price.replace(\".\",\"\")\n",
    "price = price.strip()\n",
    "title = title.strip()\n",
    "\n",
    "print(title)\n",
    "print(price)"
   ]
  },
  {
   "cell_type": "code",
   "execution_count": null,
   "id": "f7e6efde-c759-4a16-9b6e-da47892e09a5",
   "metadata": {},
   "outputs": [],
   "source": [
    "'''\n",
    "price = price.strip()[1:]这行代码的意思是:\n",
    "\n",
    "1、price.strip():\n",
    "strip()方法是用于去除字符串前后指定的字符。这里没有指定字符，所以默认去除字符串前后【空格、换行符】等【空白字符】。\n",
    "\n",
    "比如:\n",
    "价格字符串是\"$123 \"\n",
    "\n",
    "执行price.strip()后会去除''和''之间的空白字符，返回\"$123\"\n",
    "\n",
    "2、[1:]:\n",
    "这个是字符串下标截取的意思。\n",
    "\n",
    "比如一个字符串是\"hello\"，下标从0开始数。\n",
    "\"hello\"[0]就是\"h\"\n",
    "\"hello\"[1]就是\"e\"\n",
    "\n",
    "这里的[1:]表示从下标1开始截取到字符串结束。\n",
    "'''"
   ]
  },
  {
   "cell_type": "code",
   "execution_count": null,
   "id": "74bd9560-0ef7-4cdb-8cc1-fdadf9b92b8b",
   "metadata": {},
   "outputs": [],
   "source": []
  },
  {
   "cell_type": "code",
   "execution_count": 34,
   "id": "4f021c23",
   "metadata": {},
   "outputs": [
    {
     "name": "stdout",
     "output_type": "stream",
     "text": [
      "2024-02-29\n"
     ]
    }
   ],
   "source": [
    "# 4. Create a Timestamp for your output to track when data was collected\n",
    "\n",
    "import datetime\n",
    "\n",
    "today = datetime.date.today()\n",
    "\n",
    "print(today)\n"
   ]
  },
  {
   "cell_type": "code",
   "execution_count": null,
   "id": "1229665f-011e-4b40-9981-c8ce985e03d0",
   "metadata": {},
   "outputs": [],
   "source": []
  },
  {
   "cell_type": "code",
   "execution_count": 47,
   "id": "14d703ca",
   "metadata": {},
   "outputs": [
    {
     "data": {
      "text/plain": [
       "<_io.TextIOWrapper name='C:\\\\Users\\\\23731\\\\Desktop\\\\DA所有文件\\\\automatic file sorter project\\\\AmazonWebScraperDataset.csv' mode='w' encoding='UTF8'>"
      ]
     },
     "execution_count": 47,
     "metadata": {},
     "output_type": "execute_result"
    }
   ],
   "source": [
    "# 5. Create CSV and write headers and data into the file\n",
    "\n",
    "import csv \n",
    "import os\n",
    "\n",
    "header = ['Title', 'Price', 'Date']\n",
    "data = [title, price, today]\n",
    "\n",
    "file_path = os.path.join(r'C:\\Users\\23731\\Desktop\\DA所有文件\\automatic file sorter project','AmazonWebScraperDataset.csv')\n",
    "\n",
    "with open(file_path, 'w', newline='', encoding='UTF8') as f:\n",
    "    writer = csv.writer(f)\n",
    "    writer.writerow(header)\n",
    "    writer.writerow(data)\n",
    "    \n",
    "f"
   ]
  },
  {
   "cell_type": "code",
   "execution_count": null,
   "id": "067494ec-47f7-4675-8d30-6cab1d14fb59",
   "metadata": {},
   "outputs": [],
   "source": [
    "'''\n",
    "这段代码是用来将数据写入CSV文件的。\n",
    "\n",
    "主要步骤:\n",
    "1. 导入csv模块，用于读写CSV文件\n",
    "2. 定义header标题，这里包含三列'Title'， 'Price'， 'Date'\n",
    "3. 定义数据列表data，内容为当前页面的标题title， 价格price和日期today\n",
    "4. 使用with开头，打开一个CSV文件用于写入\n",
    "\t· 'w'表示写入模式\n",
    "\t· newline=''用于在不同操作系统间兼容\n",
    "\t· encoding='UTF8'设置编码为UTF-8\n",
    "5. 创建csv.writer对象用于写入CSV\n",
    "6. 调用writer.writerow()方法\n",
    "\t· 第一行写入header标题\n",
    "\t· 第二行写入数据data\n",
    "\n",
    "这段代码的目的是:\n",
    "· 将当前页面爬取到的标题，价格和日期写入到一个CSV文件中去\n",
    "· CSV文件以追加模式打开\n",
    "· 先写入标题栏header\n",
    "· 再写入一条数据记录data\n",
    "\n",
    "这样就可以方便记录每次爬取的结果，实现数据持久化存储到csv文件中。\n",
    "总的来说，是通过csv模块将结构化数据写入CSV文件中，方便后续处理和分析。\n",
    "'''"
   ]
  },
  {
   "cell_type": "code",
   "execution_count": null,
   "id": "10026a15-f8c9-4f21-ad82-ab77ecaa236f",
   "metadata": {},
   "outputs": [],
   "source": [
    "'''\n",
    "with...as是Python中的一个语法结构，用于优雅且高效地打开和关闭文件。\n",
    "\n",
    "它的工作原理是:\n",
    "· with后面跟上下文管理对象，比如open打开的文件对象\n",
    "· as后面跟一个变量名，用来引用管理对象\n",
    "· Python会确保with块中的代码执行完成后，自动关闭文件\n",
    "\n",
    "例如:\n",
    "with open('file.txt') as f:\n",
    "   # do something with the file \n",
    "   pass\n",
    "\n",
    "这相当于:\n",
    "f = open('file.txt')\n",
    "try:\n",
    "  # do something with the file\n",
    "finally:\n",
    "  f.close()\n",
    "\n",
    "与try-finally相比，with...as的优点有:\n",
    "· 代码块内获取文件对象更简洁，不需要重复声明变量\n",
    "· 不管代码是否发生异常，文件都一定会在离开上下文后被关闭\n",
    "· 避免忘记调用close()方法导致资源泄漏\n",
    "\n",
    "所以with...as可以说是Python中处理上下文的一种最佳实践。\n",
    "它确保任何上下文资源在离开代码块后都能被正确释放。\n",
    "应用场景包括打开文件、数据库连接等需要在使用结束后释放资源的情况。\n",
    "'''"
   ]
  },
  {
   "cell_type": "code",
   "execution_count": null,
   "id": "379ead2c-94fe-4502-af4d-cf3d70e9dd9d",
   "metadata": {},
   "outputs": [],
   "source": [
    "'''\n",
    "再解释一下newline=''这个参数设置的原因:\n",
    "\n",
    "以文本模式打开文件时，不同系统有不同的换行表示方法:\n",
    "· Windows使用\"\\r\\n\"\n",
    "· Linux/Unix使用\"\\n\"\n",
    "\n",
    "而CSV文件标准定义使用\"\\n\"作为换行。\n",
    "\n",
    "那么问题来了，如果我们不设置newline参数，直接用默认值会如何:\n",
    "· Windows系统下，默认会写入\"\\r\\n\"，这样在Linux上读文件会产生问题。\n",
    "· Linux系统下，默认会写入\"\\n\"，对Windows来说也可能看不懂。\n",
    "\n",
    "所以，为了兼容不同系统，我们需要告诉Python写入文件时使用什么换行格式。\n",
    "\n",
    "这就需要newline参数了。它有以下可选值:\n",
    "·  None: 使用当前系统的标准换行格式\n",
    "·  '' 或 '\\n': 使用单一的换行符'\\n'\n",
    "·  '\\r'或'\\r\\n': 使用具体换行格式\n",
    "\n",
    "我们设置为''，表示不管当前系统如何，都只使用CSV标准定义的\"\\n\"作为换行。\n",
    "这样生成的文件就确保在任何系统上都可以正确解析，即实现了跨平台兼容。\n",
    "\n",
    "如果不设置这个参数，由于默认值不同会导致兼容性问题。设置为''可以明确告诉Python使用单一通用格式写入。\n",
    "所以啊，newline=''的目的就是为了生成可跨平台兼容读写的CSV文件。\n",
    "'''"
   ]
  },
  {
   "cell_type": "code",
   "execution_count": null,
   "id": "a79b94ac-8a47-4cdf-8b57-e741040a92a3",
   "metadata": {},
   "outputs": [],
   "source": [
    "# 展示"
   ]
  },
  {
   "cell_type": "code",
   "execution_count": 48,
   "id": "d07eeb86",
   "metadata": {},
   "outputs": [
    {
     "name": "stdout",
     "output_type": "stream",
     "text": [
      "                                               Title  Price        Date\n",
      "0  Sarcastic Comment Loading Please Wait Funny Sa...     19  2024-02-29\n"
     ]
    }
   ],
   "source": [
    "import pandas as pd\n",
    "\n",
    "df = pd.read_csv(r'C:\\Users\\23731\\Desktop\\DA所有文件\\automatic file sorter project\\AmazonWebScraperDataset.csv')\n",
    "\n",
    "print(df)"
   ]
  },
  {
   "cell_type": "code",
   "execution_count": null,
   "id": "66c6d79c-3fd3-466d-bbeb-e5f64a3e5245",
   "metadata": {},
   "outputs": [],
   "source": []
  },
  {
   "cell_type": "code",
   "execution_count": 49,
   "id": "6b05c1eb",
   "metadata": {},
   "outputs": [],
   "source": [
    "# 6. Now we are appending data to the csv\n",
    "\n",
    "with open('AmazonWebScraperDataset.csv', 'a+', newline='', encoding='UTF8') as f:\n",
    "    writer = csv.writer(f)\n",
    "    writer.writerow(data)"
   ]
  },
  {
   "cell_type": "code",
   "execution_count": null,
   "id": "f0e367ae-4041-484d-9d0e-3c25eb7bae08",
   "metadata": {},
   "outputs": [],
   "source": [
    "'''\n",
    "a+ 代表append，'a+'模式表示【打开】一个文件用于读取和追加写入。如果文件不存在，则【创建】。\n",
    "\n",
    "举例：假设我们要从网页上爬取一些商品信息，并把结果写入CSV文件。\n",
    "\n",
    "1、定义商品信息数据结构:\n",
    "import csv\n",
    "\n",
    "# 商品数据结构  \n",
    "Product = ['name'， 'price'， 'url']\n",
    "\n",
    "2、模拟网页爬虫，每次获取一条商品数据:\n",
    "def crawl_page():\n",
    "  # 模拟爬取一条数据\n",
    "  product = ['手机'， 100， 'www.example.com/phone']  \n",
    "  return product\n",
    "\n",
    "3、循环爬取多页，并写入CSV:\n",
    "products = []\n",
    "\n",
    "for i in range(3): # 模拟爬3页\n",
    "  product = crawl_page()\n",
    "  products.append(product)\n",
    "\n",
    "# 写入CSV\n",
    "with open('products.csv'，'a+'，newline='') as f:\n",
    "  writer = csv.writer(f)\n",
    "  \n",
    "  for product in products:\n",
    "    writer.writerow(product)\n",
    "\n",
    "· 在每次循环里，我们通过crawl_page()模拟获取一条商品数据、写入products列表。\n",
    "· 最后用with open()以'a+'模式打开文件，并使用product数据逐行写入CSV。\n",
    "· 这里data可以理解为products列表，每次都更新商品数据写入文件。\n",
    "· 运行这段代码，可以实现按顺序爬取多页商品信息，将结果持续写入CSV文件的效果。\n",
    "\n",
    "\n",
    "\n",
    "\n",
    "\n",
    "问：range(3) 这是啥？\n",
    "答：range(3)在python中代表生成一个0-2之间的整数序列。\n",
    "\n",
    "具体含义是:\n",
    "· range()函数用于生成整数序列，类似于其他语言中的1..3。\n",
    "· range(3)会生成从0开始小于3的整数，也就是0，1，2三个元素组成的序列。\n",
    "· 例如:\n",
    "numbers = range(3)\n",
    "print(numbers)\n",
    "\n",
    "# 输出: range(0,3)\n",
    "'''"
   ]
  },
  {
   "cell_type": "code",
   "execution_count": 63,
   "id": "8e95b9e0",
   "metadata": {},
   "outputs": [],
   "source": [
    "# 7. Combine all of the above code into one function\n",
    "\n",
    "\n",
    "def check_price():\n",
    "    URL = 'https://www.amazon.com/Sarcastic-Comment-Loading-Sarcasm-T-Shirt/dp/B074P8S57Y/ref=sxin_14_pa_sp_search_thematic_sspa?content-id=amzn1.sym.cd4900ae-382e-4968-8cca-26c773a2a0f3%3Aamzn1.sym.cd4900ae-382e-4968-8cca-26c773a2a0f3&crid=DX71JQ1NCN6I&cv_ct_cx=data%2Banalyst%2Btshirt&dib=eyJ2IjoiMSJ9.XWwc0TCx8FCMV445Nl_-h4Y6XKxxCaDsgB-3TAA5lByd1O_0awOPpKgFmuPZ5mV9.PH39Yy9FdE3J-om9N3HQ4T2SUxUBK-M-sWv2cS7sVDo&dib_tag=se&keywords=data%2Banalyst%2Btshirt&pd_rd_i=B074P8S57Y&pd_rd_r=7de926fe-5f4e-4962-bf06-f6cd40e1cc78&pd_rd_w=TwgqN&pd_rd_wg=naWIL&pf_rd_p=cd4900ae-382e-4968-8cca-26c773a2a0f3&pf_rd_r=BGWKXJZ5CKE2MPPQ42H2&qid=1709227647&sbo=RZvfv%2F%2FHxDF%2BO5021pAnSA%3D%3D&sprefix=data%2Banalyst%2Btshirt%2Caps%2C240&sr=1-2-3f7eb011-4703-48ad-8058-43dbff1e6b87-spons&sp_csd=d2lkZ2V0TmFtZT1zcF9zZWFyY2hfdGhlbWF0aWM&psc=1'\n",
    "\n",
    "\n",
    "    headers = {\"User-Agent\": \"Mozilla/5.0 (Windows NT 10.0; Win64; x64) AppleWebKit/537.36 (KHTML, like Gecko) Chrome/78.0.3904.108 Safari/537.36\", \"Accept-Encoding\":\"gzip, deflate\", \"Accept\":\"text/html,application/xhtml+xml,application/xml;q=0.9,*/*;q=0.8\", \"DNT\":\"1\",\"Connection\":\"close\", \"Upgrade-Insecure-Requests\":\"1\"}\n",
    "\n",
    "    page = requests.get(URL, headers=headers)\n",
    "\n",
    "    soup1 = BeautifulSoup(page.content, \"html.parser\")\n",
    "\n",
    "    soup2 = BeautifulSoup(soup1.prettify(), \"html.parser\")\n",
    "\n",
    "    title = soup2.find(id='productTitle').get_text()\n",
    "\n",
    "    price = soup2.find('span',{'class':'a-price-whole'}).get_text()\n",
    "\n",
    "    price = price.replace(\".\",\"\")\n",
    "    price = price.strip()\n",
    "    title = title.strip()\n",
    "\n",
    "    import datetime\n",
    "\n",
    "    today = datetime.date.today()\n",
    "    \n",
    "    import csv \n",
    "\n",
    "    header = ['Title', 'Price', 'Date']\n",
    "    data = [title, price, today]\n",
    "\n",
    "    file_path = os.path.join(r'C:\\Projects','AmazonWebScraperDataset.csv')\n",
    "\n",
    "    with open(file_path, 'a+', newline='', encoding='UTF8') as f:\n",
    "        writer = csv.writer(f)\n",
    "        # writer.writerow(header)\n",
    "        writer.writerow(data)\n",
    "\n",
    "    # 此处直接用了 a+ 追加模式，更省事了\n",
    " \n",
    "check_price()    "
   ]
  },
  {
   "cell_type": "code",
   "execution_count": null,
   "id": "e59605f2-a275-46c8-a6f3-218247ea224b",
   "metadata": {},
   "outputs": [],
   "source": []
  },
  {
   "cell_type": "code",
   "execution_count": null,
   "id": "c72f2c4e",
   "metadata": {},
   "outputs": [],
   "source": [
    "# 8. Runs check_price after a set time and inputs data into your CSV\n",
    "\n",
    "while(True):\n",
    "    check_price()\n",
    "    time.sleep(86400)"
   ]
  },
  {
   "cell_type": "code",
   "execution_count": null,
   "id": "0cfd3268-f9a5-459f-935d-d0da0dfa1904",
   "metadata": {},
   "outputs": [],
   "source": [
    "# 展示"
   ]
  },
  {
   "cell_type": "code",
   "execution_count": null,
   "id": "00af7126",
   "metadata": {},
   "outputs": [],
   "source": [
    "import pandas as pd\n",
    "\n",
    "df = pd.read_csv(r'C:\\Projects\\AmazonWebScraperDataset.csv')\n",
    "\n",
    "print(df)"
   ]
  },
  {
   "cell_type": "code",
   "execution_count": null,
   "id": "3cd21ba3-a68e-4f86-a149-113ebfd34cb9",
   "metadata": {},
   "outputs": [],
   "source": [
    "'''\n",
    "改变文件路径是因为写入权限得问题：C盘的User文件夹限制太多了：\n",
    "\n",
    "建议改变文件存储路径试试:\n",
    "· 将文件放到Documents或者Downloads等文件夹,这些文件夹默认会给用户写入权限。\n",
    "· 把文件放到python文件同级目录下,不要放在用户文件夹里。\n",
    "· 创建一个专门用于项目的文件夹,例如C:\\Projects,给这个文件夹授予写入权限。√ 用这个了\n",
    "'''"
   ]
  },
  {
   "cell_type": "code",
   "execution_count": null,
   "id": "8f51c3b8-df4b-494e-93d5-c207898abf06",
   "metadata": {},
   "outputs": [],
   "source": [
    "# 9. sending yourself an email\n",
    "\n",
    "# If uou want to try sending yourself an email (just for fun) when a price hits below a certain level you can try it\n",
    "# out with this script\n",
    "\n",
    "def send_mail():\n",
    "    server = smtplib.SMTP_SSL('smtp.gmail.com',465)\n",
    "    server.ehlo()\n",
    "    #server.starttls()\n",
    "    server.ehlo()\n",
    "    server.login('mendymeng2050@gmail.com','dafenqimima0523')\n",
    "    \n",
    "    subject = \"The Shirt you want is below $15! Now is your chance to buy!\"\n",
    "    body = \"Alex, This is the moment we have been waiting for. Now is your chance to pick up the shirt of your dreams. Don't mess it up! Link here: https://www.amazon.com/Funny-Data-Systems-Business-Analyst/dp/B07FNW9FGJ/ref=sr_1_3?dchild=1&keywords=data+analyst+tshirt&qid=1626655184&sr=8-3\"\n",
    "   \n",
    "    msg = f\"Subject: {subject}\\n\\n{body}\"\n",
    "    \n",
    "    server.sendmail(\n",
    "        'mendymeng2050@gmail.com',\n",
    "        msg\n",
    "     \n",
    "    )\n",
    "\n",
    "send_mail()"
   ]
  },
  {
   "cell_type": "code",
   "execution_count": null,
   "id": "49357ee5-3cbb-4493-9329-1afba69b25fd",
   "metadata": {},
   "outputs": [],
   "source": [
    "'''\n",
    "这段代码是利用Python的smtplib模块发送一封简单的电子邮件。\n",
    "\n",
    "1、首先通过不安全的SMTP连接建立会话，建立与SMTP服务器(gmail服务器)的连接\n",
    "server = smtplib.SMTP_SSL('smtp.gmail.com'，465) \n",
    "server.ehlo()\n",
    "\n",
    "\t· smtplib是Python内置的用于邮件的SMTP协议客户端实现。\n",
    "\t· SMTP_SSL('smtp.gmail.com'，465)\n",
    "\t\t· SMTP_SSL指定使用SSL加密连接方式\n",
    "\t\t· 'smtp.gmail.com'是gmail SMTP服务器地址\n",
    "\t\t· 465是gmail SMTP服务器默认SSL端口\n",
    "\t· server = smtplib.SMTP_SSL(...)\n",
    "                这里利用smtplib创建了一个SMTP对象，用来管理与服务器的连接会话。\n",
    "\n",
    "\t· server.ehlo()\n",
    "\t· ehlo()向服务器发送一个EHLO命令，使服务器进行相应的自我介绍。\n",
    "\t   这主要是SMTP会话协议中的一步处理。\n",
    "\n",
    "所以总结来说:\n",
    "· 使用smtplib创建SMTP对象\n",
    "· 指定协议加密方式和服务地址端口\n",
    "· 发送EHLO命令与服务器握手建立会话\n",
    "· 通过这几步就成功建立了Python程序与gmail SMTP服务器的安全连接会话。\n",
    "\n",
    "\n",
    "2、 然后使用starttls()升级为安全连接:\n",
    "server.starttls()\n",
    "\n",
    "主要功能和含义:\n",
    "· server.starttls() 方法的作用是在【未经安全连接】的SMTP会话上启动TLS(Transport Layer Security)安全连接。\n",
    "\n",
    "具体来说:\n",
    "· SMTP默认使用明文传输，信息可能被中间人截获。\n",
    "· 使用starttls()可以将连接升级为安全连接(加密传输)，起到防窃听的作用。\n",
    "\n",
    "所以starttls()的作用就是:\n",
    "· 在刚建立的明文SMTP会话上启动TLS协议\n",
    "· 将连接从明文升级为加密的安全SMTP连接\n",
    "· 以保护后续传输信息的安全\n",
    "\n",
    "一般来说，对smtp服务启用了ssl，则无需使用starttls。\n",
    "使用starttls是为一些不支持ssl的第三方smtp服务提供安全升级方法。\n",
    "\n",
    "\n",
    "3、升级成功后再进行后续交互，如登录、发送邮件等：登录邮箱账号，获取SMTP权限\n",
    "server.login('AlexTheAnalyst95@gmail.com'，'password')\n",
    "\n",
    "\n",
    "4、定义邮件内容及标题\n",
    "subject = \"Subject title\"\n",
    "body = \"Email body content\"\n",
    "\n",
    "\n",
    "5、构建完整的邮件内容\n",
    "msg = f\"Subject: {subject}\\n\\n{body}\"\n",
    "\n",
    "\n",
    "6、发送邮件\n",
    "server.sendmail(\n",
    "    'from@email.com'， \n",
    "    'to@email.com'，\n",
    "    msg\n",
    ")\n",
    "\n",
    "'''"
   ]
  }
 ],
 "metadata": {
  "kernelspec": {
   "display_name": "Python 3 (ipykernel)",
   "language": "python",
   "name": "python3"
  },
  "language_info": {
   "codemirror_mode": {
    "name": "ipython",
    "version": 3
   },
   "file_extension": ".py",
   "mimetype": "text/x-python",
   "name": "python",
   "nbconvert_exporter": "python",
   "pygments_lexer": "ipython3",
   "version": "3.12.2"
  }
 },
 "nbformat": 4,
 "nbformat_minor": 5
}
