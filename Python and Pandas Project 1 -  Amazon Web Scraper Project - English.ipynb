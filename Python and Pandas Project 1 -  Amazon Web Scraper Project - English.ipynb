{
 "cells": [
  {
   "cell_type": "code",
   "execution_count": 2,
   "id": "f236cbb9",
   "metadata": {},
   "outputs": [],
   "source": [
    "# 1. import libraries \n",
    "\n",
    "from bs4 import BeautifulSoup\n",
    "import requests\n",
    "import time\n",
    "import datetime\n",
    "\n",
    "import smtplib     #send emails to yourself\n"
   ]
  },
  {
   "cell_type": "code",
   "execution_count": null,
   "id": "1c2e0f1f-4c82-4340-b930-aae90d3e98b6",
   "metadata": {},
   "outputs": [],
   "source": []
  },
  {
   "cell_type": "code",
   "execution_count": 40,
   "id": "9b531b61",
   "metadata": {},
   "outputs": [
    {
     "name": "stdout",
     "output_type": "stream",
     "text": [
      "\n",
      "                    Sarcastic Comment Loading Please Wait Funny Sarcasm Humor for Men Women T-Shirt\n",
      "                   \n",
      "\n",
      "                      19\n",
      "                      \n",
      "                       .\n",
      "                      \n",
      "\n"
     ]
    }
   ],
   "source": [
    "# 2. Connect to Website and pull in data\n",
    "\n",
    "# URL = 'https://www.amazon.com/Funny-Data-Systems-Business-Analyst/dp/B07FNW9FGJ/ref=sr_1_3?dchild=1&keywords=data%2Banalyst%2Btshirt&qid=1626655184&sr=8-3&customId=B0752XJYNL&th=1'\n",
    "\n",
    "URL = 'https://www.amazon.com/Sarcastic-Comment-Loading-Sarcasm-T-Shirt/dp/B074P8S57Y/ref=sxin_14_pa_sp_search_thematic_sspa?content-id=amzn1.sym.cd4900ae-382e-4968-8cca-26c773a2a0f3%3Aamzn1.sym.cd4900ae-382e-4968-8cca-26c773a2a0f3&crid=DX71JQ1NCN6I&cv_ct_cx=data%2Banalyst%2Btshirt&dib=eyJ2IjoiMSJ9.XWwc0TCx8FCMV445Nl_-h4Y6XKxxCaDsgB-3TAA5lByd1O_0awOPpKgFmuPZ5mV9.PH39Yy9FdE3J-om9N3HQ4T2SUxUBK-M-sWv2cS7sVDo&dib_tag=se&keywords=data%2Banalyst%2Btshirt&pd_rd_i=B074P8S57Y&pd_rd_r=7de926fe-5f4e-4962-bf06-f6cd40e1cc78&pd_rd_w=TwgqN&pd_rd_wg=naWIL&pf_rd_p=cd4900ae-382e-4968-8cca-26c773a2a0f3&pf_rd_r=BGWKXJZ5CKE2MPPQ42H2&qid=1709227647&sbo=RZvfv%2F%2FHxDF%2BO5021pAnSA%3D%3D&sprefix=data%2Banalyst%2Btshirt%2Caps%2C240&sr=1-2-3f7eb011-4703-48ad-8058-43dbff1e6b87-spons&sp_csd=d2lkZ2V0TmFtZT1zcF9zZWFyY2hfdGhlbWF0aWM&psc=1'\n",
    "\n",
    "\n",
    "\n",
    "headers = {\"User-Agent\": \"Mozilla/5.0 (Windows NT 10.0; Win64; x64) AppleWebKit/537.36 (KHTML, like Gecko) Chrome/78.0.3904.108 Safari/537.36\", \"Accept-Encoding\":\"gzip, deflate\", \"Accept\":\"text/html,application/xhtml+xml,application/xml;q=0.9,*/*;q=0.8\", \"DNT\":\"1\",\"Connection\":\"close\", \"Upgrade-Insecure-Requests\":\"1\"}\n",
    "\n",
    "page = requests.get(URL, headers=headers)\n",
    "\n",
    "soup1 = BeautifulSoup(page.content, \"html.parser\")\n",
    "\n",
    "soup2 = BeautifulSoup(soup1.prettify(), \"html.parser\")\n",
    "\n",
    "\n",
    "title = soup2.find(id='productTitle').get_text()\n",
    "price = soup2.find('span',{'class':'a-price-whole'}).get_text()\n",
    "\n",
    "# price = soup2.find(id='priceblock_ourprice').get_text()\n",
    "# price = soup2.find('span',{'class':'a-offscreen'}).get_text()\n",
    "# price = soup2.find(\"span\",{\"class\":\"a-price\"}).find(\"span\").text\n",
    "\n",
    "print(title)\n",
    "print(price)\n",
    "\n",
    "\n"
   ]
  },
  {
   "cell_type": "code",
   "execution_count": null,
   "id": "a8f6fedc-46af-416d-bec6-fd1fcb42723d",
   "metadata": {},
   "outputs": [],
   "source": []
  },
  {
   "cell_type": "code",
   "execution_count": 41,
   "id": "b6f7d66e",
   "metadata": {},
   "outputs": [
    {
     "name": "stdout",
     "output_type": "stream",
     "text": [
      "Sarcastic Comment Loading Please Wait Funny Sarcasm Humor for Men Women T-Shirt\n",
      "19\n"
     ]
    }
   ],
   "source": [
    "# 3. Clean up the data a little bit\n",
    "\n",
    "price = price.replace(\".\",\"\")\n",
    "price = price.strip()\n",
    "title = title.strip()\n",
    "\n",
    "print(title)\n",
    "print(price)"
   ]
  },
  {
   "cell_type": "code",
   "execution_count": null,
   "id": "f7e6efde-c759-4a16-9b6e-da47892e09a5",
   "metadata": {},
   "outputs": [],
   "source": [
    "'''\n",
    "The meaning of the code price = price.strip()[1:] is:\n",
    "\n",
    "1、price.strip(): The strip() method is used to remove specified characters from the beginning and end of a string. \n",
    "In this case, no specific characters are specified, so it removes any leading or trailing whitespace characters, such as spaces or newline characters.\n",
    "\n",
    "For example:\n",
    "If the price string is \"$123 \", \n",
    "executing price.strip() will remove the whitespace between '$' and '1', returning \"$123\".\n",
    "\n",
    "2、[1:]: \n",
    "This is string slicing notation.\n",
    "\n",
    "For example, consider a string \"hello\" where the indexing starts at 0.\n",
    "\"hello\"[0] returns \"h\"\n",
    "\"hello\"[1] returns \"e\"\n",
    "\n",
    "Here, [1:] indicates slicing the string starting from index 1 to the end.\n",
    "'''"
   ]
  },
  {
   "cell_type": "code",
   "execution_count": null,
   "id": "74bd9560-0ef7-4cdb-8cc1-fdadf9b92b8b",
   "metadata": {},
   "outputs": [],
   "source": []
  },
  {
   "cell_type": "code",
   "execution_count": 34,
   "id": "4f021c23",
   "metadata": {},
   "outputs": [
    {
     "name": "stdout",
     "output_type": "stream",
     "text": [
      "2024-02-29\n"
     ]
    }
   ],
   "source": [
    "# 4. Create a Timestamp for your output to track when data was collected\n",
    "\n",
    "import datetime\n",
    "\n",
    "today = datetime.date.today()\n",
    "\n",
    "print(today)\n"
   ]
  },
  {
   "cell_type": "code",
   "execution_count": null,
   "id": "1229665f-011e-4b40-9981-c8ce985e03d0",
   "metadata": {},
   "outputs": [],
   "source": []
  },
  {
   "cell_type": "code",
   "execution_count": 47,
   "id": "14d703ca",
   "metadata": {},
   "outputs": [
    {
     "data": {
      "text/plain": [
       "<_io.TextIOWrapper name='C:\\\\Users\\\\23731\\\\Desktop\\\\DA所有文件\\\\automatic file sorter project\\\\AmazonWebScraperDataset.csv' mode='w' encoding='UTF8'>"
      ]
     },
     "execution_count": 47,
     "metadata": {},
     "output_type": "execute_result"
    }
   ],
   "source": [
    "# 5. Create CSV and write headers and data into the file\n",
    "\n",
    "import csv \n",
    "import os\n",
    "\n",
    "header = ['Title', 'Price', 'Date']\n",
    "data = [title, price, today]\n",
    "\n",
    "file_path = os.path.join(r'C:\\Users\\23731\\Desktop\\DA所有文件\\automatic file sorter project','AmazonWebScraperDataset.csv')\n",
    "\n",
    "with open(file_path, 'w', newline='', encoding='UTF8') as f:\n",
    "    writer = csv.writer(f)\n",
    "    writer.writerow(header)\n",
    "    writer.writerow(data)\n",
    "    \n",
    "f"
   ]
  },
  {
   "cell_type": "code",
   "execution_count": null,
   "id": "067494ec-47f7-4675-8d30-6cab1d14fb59",
   "metadata": {},
   "outputs": [],
   "source": [
    "'''\n",
    "This code is used to write data to a CSV file.\n",
    "\n",
    "The main steps are as follows:\n",
    "1. Import the csv module for reading and writing CSV files.\n",
    "2. Define the header titles, which include three columns: 'Title', 'Price', and 'Date'.\n",
    "3. Define a data list containing the title, price, and current date from the current page.\n",
    "4. Start a 'with' block to open a CSV file for writing:\n",
    "   - 'w' indicates the write mode.\n",
    "   - newline='' is used for cross-platform compatibility.\n",
    "   - encoding='UTF8' sets the encoding to UTF-8.\n",
    "5. Create a csv.writer object for writing to the CSV file.\n",
    "6. Use the writer.writerow() method:\n",
    "   - The first row writes the header titles.\n",
    "   - The second row writes the data record.\n",
    "\n",
    "The purpose of this code is to:\n",
    "- Write the titles, prices, and dates obtained from the current page to a CSV file.\n",
    "- The CSV file is opened in append mode.\n",
    "- The header is written first.\n",
    "- Then, a single data record is written.\n",
    "\n",
    "This allows for convenient recording of the results obtained from each web scraping session, achieving persistent storage of data in a CSV file.\n",
    "In summary, the code uses the csv module to write structured data to a CSV file, facilitating further processing and analysis.\n",
    "'''"
   ]
  },
  {
   "cell_type": "code",
   "execution_count": null,
   "id": "10026a15-f8c9-4f21-ad82-ab77ecaa236f",
   "metadata": {},
   "outputs": [],
   "source": [
    "'''\n",
    "The `with...as` statement is a syntax structure in Python used to elegantly and efficiently open and close files.\n",
    "\n",
    "Here's how it works:\n",
    "- The `with` keyword is followed by a context management object, such as a file object opened with the `open()` function.\n",
    "- After the `as` keyword, there's a variable name used to reference the management object.\n",
    "- Python ensures that the code within the `with` block is executed, and the file is automatically closed afterward.\n",
    "\n",
    "For example:\n",
    "with open('file.txt') as f:\n",
    "   # do something with the file \n",
    "   pass\n",
    " \n",
    "\n",
    "This is equivalent to:\n",
    "f = open('file.txt')\n",
    "try:\n",
    "  # do something with the file\n",
    "finally:\n",
    "  f.close()\n",
    "\n",
    "\n",
    "Compared to the `try-finally` approach, the `with...as` statement has several advantages:\n",
    "- Getting the file object within the block is more concise, without needing to declare the variable again.\n",
    "- Regardless of whether an exception occurs, the file is always closed after leaving the context.\n",
    "- It avoids the possibility of forgetting to call the `close()` method, which can lead to resource leaks.\n",
    "\n",
    "Therefore, `with...as` can be considered a best practice in Python for handling contexts.\n",
    " It ensures that any context resources are correctly released after leaving the code block. \n",
    "It is commonly used in situations such as opening files, establishing database connections, or any other scenario where resources need to be released after their usage.\n",
    "'''"
   ]
  },
  {
   "cell_type": "code",
   "execution_count": null,
   "id": "379ead2c-94fe-4502-af4d-cf3d70e9dd9d",
   "metadata": {},
   "outputs": [],
   "source": [
    "'''\n",
    "Let me explain the reason for setting the `newline=''` parameter:\n",
    "\n",
    "When opening a file in text mode, different systems have different representations for line breaks:\n",
    "- Windows uses \"\\r\\n\"\n",
    "- Linux/Unix uses \"\\n\"\n",
    "\n",
    "However, the CSV file standard defines the use of \"\\n\" as the line break.\n",
    "\n",
    "Now, the question arises: What happens if we don't set the `newline` parameter and use the default value?\n",
    "- On Windows systems, the default behavior is to write \"\\r\\n\", which can cause issues when reading the file on Linux.\n",
    "- On Linux systems, the default behavior is to write \"\\n\", which may not be readable by Windows.\n",
    "\n",
    "Therefore, to ensure compatibility across different systems, we need to specify to Python the line break format to use when writing to the file.\n",
    "\n",
    "This is where the `newline` parameter comes in. It has the following options:\n",
    "- None: Use the standard line break format of the current system.\n",
    "- '' or '\\n': Use a single newline character '\\n'.\n",
    "- '\\r' or '\\r\\n': Use the specific line break format.\n",
    "\n",
    "By setting it to '', we indicate that regardless of the current system, we will use the CSV standard definition of \"\\n\" as the line break. \n",
    "This ensures that the generated file can be correctly parsed on any system, achieving cross-platform compatibility.\n",
    "\n",
    "If we don't set this parameter, the default behavior may cause compatibility issues due to the different default values. \n",
    "Setting it to '' explicitly tells Python to use a single universally accepted format when writing.\n",
    "\n",
    "So, the purpose of `newline=''` is to generate a CSV file that is compatible with reading and writing across different platforms.\n",
    "'''"
   ]
  },
  {
   "cell_type": "code",
   "execution_count": null,
   "id": "a79b94ac-8a47-4cdf-8b57-e741040a92a3",
   "metadata": {},
   "outputs": [],
   "source": [
    "# Display"
   ]
  },
  {
   "cell_type": "code",
   "execution_count": 48,
   "id": "d07eeb86",
   "metadata": {},
   "outputs": [
    {
     "name": "stdout",
     "output_type": "stream",
     "text": [
      "                                               Title  Price        Date\n",
      "0  Sarcastic Comment Loading Please Wait Funny Sa...     19  2024-02-29\n"
     ]
    }
   ],
   "source": [
    "import pandas as pd\n",
    "\n",
    "df = pd.read_csv(r'C:\\Users\\23731\\Desktop\\DA所有文件\\automatic file sorter project\\AmazonWebScraperDataset.csv')\n",
    "\n",
    "print(df)"
   ]
  },
  {
   "cell_type": "code",
   "execution_count": null,
   "id": "66c6d79c-3fd3-466d-bbeb-e5f64a3e5245",
   "metadata": {},
   "outputs": [],
   "source": []
  },
  {
   "cell_type": "code",
   "execution_count": 49,
   "id": "6b05c1eb",
   "metadata": {},
   "outputs": [],
   "source": [
    "# 6. Now we are appending data to the csv\n",
    "\n",
    "with open('AmazonWebScraperDataset.csv', 'a+', newline='', encoding='UTF8') as f:\n",
    "    writer = csv.writer(f)\n",
    "    writer.writerow(data)"
   ]
  },
  {
   "cell_type": "code",
   "execution_count": null,
   "id": "f0e367ae-4041-484d-9d0e-3c25eb7bae08",
   "metadata": {},
   "outputs": [],
   "source": [
    "'''\n",
    "The 'a+' mode represents append. Opening a file in 'a+' mode means that the file is opened for both reading and appending. \n",
    "If the file doesn't exist, it will be created.\n",
    "\n",
    "Let's take an example where we want to scrape some product information from a webpage and write the results to a CSV file.\n",
    "\n",
    "1. Define the data structure for product information:\n",
    "import csv\n",
    "\n",
    "# Product data structure\n",
    "Product = ['name', 'price', 'url']\n",
    "\n",
    "\n",
    "2. Simulate a web scraper to retrieve one product's data at a time:\n",
    "def crawl_page():\n",
    "  # Simulate scraping one data record\n",
    "  product = ['phone', 100, 'www.example.com/phone']\n",
    "  return product\n",
    "\n",
    "\n",
    "3. Loop through multiple pages to scrape and write to CSV:\n",
    "products = []\n",
    "\n",
    "for i in range(3):  # Simulate scraping 3 pages\n",
    "  product = crawl_page()\n",
    "  products.append(product)\n",
    "\n",
    "# Write to CSV\n",
    "with open('products.csv', 'a+', newline='') as f:\n",
    "  writer = csv.writer(f)\n",
    "  \n",
    "  for product in products:\n",
    "    writer.writerow(product)\n",
    "\n",
    "- Inside each loop iteration, we simulate retrieving one product's data using the `crawl_page()` function and append it to the `products` list.\n",
    "- Finally, we open the file with `open()` using 'a+' mode and write each product's data to the CSV file using `writer.writerow()`.\n",
    "- Here, `products` can be understood as the list of product data that gets updated and written to the file.\n",
    "- Running this code will simulate scraping multiple pages of product information in order and continuously write the results to the CSV file.\n",
    "\n",
    "\n",
    "\n",
    "\n",
    "Question: What does `range(3)` mean?\n",
    "Reply:  `range(3)` in Python generates a sequence of integers from 0 up to (but not including) 3.\n",
    "\n",
    "Here's the specific meaning:\n",
    "- The `range()` function is used to generate a sequence of integers, similar to other languages' 1..3 range.\n",
    "- `range(3)` will generate integers starting from 0 up to, but not including, 3. So, it generates a sequence of 0, 1, and 2.\n",
    "- For example:\n",
    "numbers = range(3)\n",
    "print(numbers)\n",
    "\n",
    "# Output: range(0, 3)\n",
    "'''"
   ]
  },
  {
   "cell_type": "code",
   "execution_count": 63,
   "id": "8e95b9e0",
   "metadata": {},
   "outputs": [],
   "source": [
    "# 7. Combine all of the above code into one function\n",
    "\n",
    "\n",
    "def check_price():\n",
    "    URL = 'https://www.amazon.com/Sarcastic-Comment-Loading-Sarcasm-T-Shirt/dp/B074P8S57Y/ref=sxin_14_pa_sp_search_thematic_sspa?content-id=amzn1.sym.cd4900ae-382e-4968-8cca-26c773a2a0f3%3Aamzn1.sym.cd4900ae-382e-4968-8cca-26c773a2a0f3&crid=DX71JQ1NCN6I&cv_ct_cx=data%2Banalyst%2Btshirt&dib=eyJ2IjoiMSJ9.XWwc0TCx8FCMV445Nl_-h4Y6XKxxCaDsgB-3TAA5lByd1O_0awOPpKgFmuPZ5mV9.PH39Yy9FdE3J-om9N3HQ4T2SUxUBK-M-sWv2cS7sVDo&dib_tag=se&keywords=data%2Banalyst%2Btshirt&pd_rd_i=B074P8S57Y&pd_rd_r=7de926fe-5f4e-4962-bf06-f6cd40e1cc78&pd_rd_w=TwgqN&pd_rd_wg=naWIL&pf_rd_p=cd4900ae-382e-4968-8cca-26c773a2a0f3&pf_rd_r=BGWKXJZ5CKE2MPPQ42H2&qid=1709227647&sbo=RZvfv%2F%2FHxDF%2BO5021pAnSA%3D%3D&sprefix=data%2Banalyst%2Btshirt%2Caps%2C240&sr=1-2-3f7eb011-4703-48ad-8058-43dbff1e6b87-spons&sp_csd=d2lkZ2V0TmFtZT1zcF9zZWFyY2hfdGhlbWF0aWM&psc=1'\n",
    "\n",
    "\n",
    "    headers = {\"User-Agent\": \"Mozilla/5.0 (Windows NT 10.0; Win64; x64) AppleWebKit/537.36 (KHTML, like Gecko) Chrome/78.0.3904.108 Safari/537.36\", \"Accept-Encoding\":\"gzip, deflate\", \"Accept\":\"text/html,application/xhtml+xml,application/xml;q=0.9,*/*;q=0.8\", \"DNT\":\"1\",\"Connection\":\"close\", \"Upgrade-Insecure-Requests\":\"1\"}\n",
    "\n",
    "    page = requests.get(URL, headers=headers)\n",
    "\n",
    "    soup1 = BeautifulSoup(page.content, \"html.parser\")\n",
    "\n",
    "    soup2 = BeautifulSoup(soup1.prettify(), \"html.parser\")\n",
    "\n",
    "    title = soup2.find(id='productTitle').get_text()\n",
    "\n",
    "    price = soup2.find('span',{'class':'a-price-whole'}).get_text()\n",
    "\n",
    "    price = price.replace(\".\",\"\")\n",
    "    price = price.strip()\n",
    "    title = title.strip()\n",
    "\n",
    "    import datetime\n",
    "\n",
    "    today = datetime.date.today()\n",
    "    \n",
    "    import csv \n",
    "\n",
    "    header = ['Title', 'Price', 'Date']\n",
    "    data = [title, price, today]\n",
    "\n",
    "    file_path = os.path.join(r'C:\\Projects','AmazonWebScraperDataset.csv')\n",
    "\n",
    "    with open(file_path, 'a+', newline='', encoding='UTF8') as f:\n",
    "        writer = csv.writer(f)\n",
    "        # writer.writerow(header)\n",
    "        writer.writerow(data)\n",
    "\n",
    "    # Using the 'a+' append mode directly in this case makes it more convenient.\n",
    " \n",
    "check_price()    "
   ]
  },
  {
   "cell_type": "code",
   "execution_count": null,
   "id": "e59605f2-a275-46c8-a6f3-218247ea224b",
   "metadata": {},
   "outputs": [],
   "source": []
  },
  {
   "cell_type": "code",
   "execution_count": null,
   "id": "c72f2c4e",
   "metadata": {},
   "outputs": [],
   "source": [
    "# 8. Runs check_price after a set time and inputs data into your CSV\n",
    "\n",
    "while(True):\n",
    "    check_price()\n",
    "    time.sleep(86400)"
   ]
  },
  {
   "cell_type": "code",
   "execution_count": null,
   "id": "0cfd3268-f9a5-459f-935d-d0da0dfa1904",
   "metadata": {},
   "outputs": [],
   "source": [
    "# Display"
   ]
  },
  {
   "cell_type": "code",
   "execution_count": null,
   "id": "00af7126",
   "metadata": {},
   "outputs": [],
   "source": [
    "import pandas as pd\n",
    "\n",
    "df = pd.read_csv(r'C:\\Projects\\AmazonWebScraperDataset.csv')\n",
    "\n",
    "print(df)"
   ]
  },
  {
   "cell_type": "code",
   "execution_count": null,
   "id": "3cd21ba3-a68e-4f86-a149-113ebfd34cb9",
   "metadata": {},
   "outputs": [],
   "source": [
    "'''\n",
    "Changing the file path is due to issues with write permissions in the User folder on the C drive.\n",
    "\n",
    "Here are some suggestions for changing the file storage path:\n",
    "· Place the file in folders such as Documents or Downloads, as these folders typically grant users write permissions by default.\n",
    "· Put the file in the same directory as the Python file, avoiding storing it in the user folder.\n",
    "· Create a dedicated folder for the project, such as C:\\Projects, and grant write permissions to that folder.    √ Using this option.\n",
    "'''"
   ]
  },
  {
   "cell_type": "code",
   "execution_count": null,
   "id": "8f51c3b8-df4b-494e-93d5-c207898abf06",
   "metadata": {},
   "outputs": [],
   "source": [
    "# 9. sending yourself an email\n",
    "\n",
    "# If uou want to try sending yourself an email (just for fun) when a price hits below a certain level you can try it\n",
    "# out with this script\n",
    "\n",
    "def send_mail():\n",
    "    server = smtplib.SMTP_SSL('smtp.gmail.com',465)\n",
    "    server.ehlo()\n",
    "    #server.starttls()\n",
    "    server.ehlo()\n",
    "    server.login('mendymeng2050@gmail.com','dafenqimima0523')\n",
    "    \n",
    "    subject = \"The Shirt you want is below $15! Now is your chance to buy!\"\n",
    "    body = \"Alex, This is the moment we have been waiting for. Now is your chance to pick up the shirt of your dreams. Don't mess it up! Link here: https://www.amazon.com/Funny-Data-Systems-Business-Analyst/dp/B07FNW9FGJ/ref=sr_1_3?dchild=1&keywords=data+analyst+tshirt&qid=1626655184&sr=8-3\"\n",
    "   \n",
    "    msg = f\"Subject: {subject}\\n\\n{body}\"\n",
    "    \n",
    "    server.sendmail(\n",
    "        'mendymeng2050@gmail.com',\n",
    "        msg\n",
    "     \n",
    "    )\n",
    "\n",
    "send_mail()"
   ]
  },
  {
   "cell_type": "code",
   "execution_count": null,
   "id": "49357ee5-3cbb-4493-9329-1afba69b25fd",
   "metadata": {},
   "outputs": [],
   "source": [
    "'''\n",
    "This code utilizes Python's smtplib module to send a simple email.\n",
    "\n",
    "1. First, establish a session by connecting to the SMTP server (Gmail server) using an insecure SMTP connection:\n",
    "server = smtplib.SMTP_SSL('smtp.gmail.com', 465)\n",
    "server.ehlo()\n",
    "\n",
    "- `smtplib` is a built-in Python module for implementing the SMTP protocol client for sending emails.\n",
    "\t- `SMTP_SSL('smtp.gmail.com', 465)` specifies the usage of an SSL-encrypted connection.\n",
    "\t- `'smtp.gmail.com'` is the address of the Gmail SMTP server.\n",
    "\t- `465` is the default SSL port for the Gmail SMTP server.\n",
    "- `server = smtplib.SMTP_SSL(...)` creates an SMTP object to manage the connection session with the server.\n",
    "- `server.ehlo()` sends an EHLO command to the server, initiating the server's self-introduction. This is a step in the SMTP session protocol.\n",
    "\n",
    "In summary:\n",
    "- Create an SMTP object using `smtplib`.\n",
    "- Specify the encryption protocol and server address port.\n",
    "- Send an EHLO command to establish a handshake with the server.\n",
    "- These steps establish a secure connection session between the Python program and the Gmail SMTP server.\n",
    "\n",
    "2. Then, upgrade to a secure connection using `starttls()`:\n",
    "server.starttls()\n",
    "\n",
    "- The `server.starttls()` method is used to initiate a TLS (Transport Layer Security) secure connection on the previously established insecure SMTP session.\n",
    "\n",
    "The main purpose and meaning:\n",
    "- The SMTP protocol defaults to plain text transmission, which can be intercepted by intermediaries.\n",
    "- By using `starttls()`, the connection is upgraded to a secure (encrypted) connection, preventing eavesdropping.\n",
    "\n",
    "So, the purpose of `starttls()` is:\n",
    "- To initiate the TLS protocol on the initially established plain text SMTP session.\n",
    "- To upgrade the connection from plain text to an encrypted secure SMTP connection.\n",
    "- To protect the security of subsequent transmitted information.\n",
    "\n",
    "Typically, if the SMTP service is enabled with SSL, there is no need to use `starttls()`.\n",
    "Using `starttls()` provides a secure upgrade method for some third-party SMTP services that do not support SSL.\n",
    "\n",
    "3. After a successful upgrade, proceed with further interactions such as logging in and sending emails: Log in to the email account and obtain SMTP authorization.\n",
    "server.login('AlexTheAnalyst95@gmail.com', 'password')\n",
    "\n",
    "4. Define the email content and subject:\n",
    "subject = \"Subject title\"\n",
    "body = \"Email body content\"\n",
    "\n",
    "\n",
    "5. Construct the complete email content:\n",
    "msg = f\"Subject: {subject}\\n\\n{body}\"\n",
    "\n",
    "\n",
    "6. Send the email:\n",
    "server.sendmail(\n",
    "    'from@email.com',\n",
    "    'to@email.com',\n",
    "    msg\n",
    ")\n",
    "\n",
    "\n",
    "\n",
    "\n",
    "'''"
   ]
  }
 ],
 "metadata": {
  "kernelspec": {
   "display_name": "Python 3 (ipykernel)",
   "language": "python",
   "name": "python3"
  },
  "language_info": {
   "codemirror_mode": {
    "name": "ipython",
    "version": 3
   },
   "file_extension": ".py",
   "mimetype": "text/x-python",
   "name": "python",
   "nbconvert_exporter": "python",
   "pygments_lexer": "ipython3",
   "version": "3.12.2"
  }
 },
 "nbformat": 4,
 "nbformat_minor": 5
}
